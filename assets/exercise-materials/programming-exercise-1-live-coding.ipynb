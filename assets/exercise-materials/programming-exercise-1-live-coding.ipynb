{
  "nbformat": 4,
  "nbformat_minor": 0,
  "metadata": {
    "colab": {
      "provenance": []
    },
    "kernelspec": {
      "name": "python3",
      "display_name": "Python 3"
    },
    "language_info": {
      "name": "python"
    }
  },
  "cells": [
    {
      "cell_type": "markdown",
      "source": [
        "# **Introduction to Google Colaboratory (short: Colab)**"
      ],
      "metadata": {
        "id": "O__7bwDQX7Rd"
      }
    },
    {
      "cell_type": "markdown",
      "source": [
        "Create a folder in your Google Drive in which you save your Colab Notebooks and your datasets (.csv files)"
      ],
      "metadata": {
        "id": "aP8wumSSkncw"
      }
    },
    {
      "cell_type": "markdown",
      "source": [
        "- Show how to create \"Text\"-sections to provide yourself an overview.\n",
        "- Show how to create sections (using capital letter-function)\n",
        "- Show how to create \"headlines\"\n",
        "- Show how to create a \"Code box\""
      ],
      "metadata": {
        "id": "ytbJC62PYCBu"
      }
    },
    {
      "cell_type": "markdown",
      "source": [
        "# **Introduction to DataFrames**"
      ],
      "metadata": {
        "id": "kQp6BrZ4Xqxv"
      }
    },
    {
      "cell_type": "markdown",
      "source": [
        "**Import NumPy and pandas modules**"
      ],
      "metadata": {
        "id": "lxM-DsNqVPw5"
      }
    },
    {
      "cell_type": "code",
      "execution_count": null,
      "metadata": {
        "id": "bwVZ0MfpUHri"
      },
      "outputs": [],
      "source": [
        "import numpy as np # A tool for working with arrays - we will load the dataset in something called a DataFrame.\n",
        "import pandas as pd # A tool for data analysis and manipulation"
      ]
    },
    {
      "cell_type": "markdown",
      "source": [
        "# **Import a .csv-file into a DataFrame**"
      ],
      "metadata": {
        "id": "a0qbDlpVi0oB"
      }
    },
    {
      "cell_type": "code",
      "source": [
        "from google.colab import drive # Provide access to your drive\n",
        "drive.mount('/content/drive') # Mount to your drive\n",
        "\n",
        "# Create a DataFrame with the cereal dataset.\n",
        "df = pd.read_csv('/content/drive/MyDrive/DVD/cereal.csv') # Remember to find the specific path and name of the .csv file.\n",
        "# /content/drive/MyDrive/Colab Notebooks/archive/cereal.csv"
      ],
      "metadata": {
        "id": "6KJJLFjRjWgi",
        "colab": {
          "base_uri": "https://localhost:8080/",
          "height": 435
        },
        "outputId": "eb80609f-ac72-4b48-9f7b-b87d39467238"
      },
      "execution_count": null,
      "outputs": [
        {
          "output_type": "stream",
          "name": "stdout",
          "text": [
            "Drive already mounted at /content/drive; to attempt to forcibly remount, call drive.mount(\"/content/drive\", force_remount=True).\n"
          ]
        },
        {
          "output_type": "error",
          "ename": "FileNotFoundError",
          "evalue": "ignored",
          "traceback": [
            "\u001b[0;31m---------------------------------------------------------------------------\u001b[0m",
            "\u001b[0;31mFileNotFoundError\u001b[0m                         Traceback (most recent call last)",
            "\u001b[0;32m<ipython-input-3-a2298f38105d>\u001b[0m in \u001b[0;36m<module>\u001b[0;34m\u001b[0m\n\u001b[1;32m      3\u001b[0m \u001b[0;34m\u001b[0m\u001b[0m\n\u001b[1;32m      4\u001b[0m \u001b[0;31m# Create a DataFrame with the cereal dataset.\u001b[0m\u001b[0;34m\u001b[0m\u001b[0;34m\u001b[0m\u001b[0m\n\u001b[0;32m----> 5\u001b[0;31m \u001b[0mdf\u001b[0m \u001b[0;34m=\u001b[0m \u001b[0mpd\u001b[0m\u001b[0;34m.\u001b[0m\u001b[0mread_csv\u001b[0m\u001b[0;34m(\u001b[0m\u001b[0;34m'/content/drive/MyDrive/DVD/cereal.csv'\u001b[0m\u001b[0;34m)\u001b[0m \u001b[0;31m# Remember to find the specific path and name of the .csv file.\u001b[0m\u001b[0;34m\u001b[0m\u001b[0;34m\u001b[0m\u001b[0m\n\u001b[0m\u001b[1;32m      6\u001b[0m \u001b[0;31m# /content/drive/MyDrive/Colab Notebooks/archive/cereal.csv\u001b[0m\u001b[0;34m\u001b[0m\u001b[0;34m\u001b[0m\u001b[0m\n",
            "\u001b[0;32m/usr/local/lib/python3.9/dist-packages/pandas/util/_decorators.py\u001b[0m in \u001b[0;36mwrapper\u001b[0;34m(*args, **kwargs)\u001b[0m\n\u001b[1;32m    309\u001b[0m                     \u001b[0mstacklevel\u001b[0m\u001b[0;34m=\u001b[0m\u001b[0mstacklevel\u001b[0m\u001b[0;34m,\u001b[0m\u001b[0;34m\u001b[0m\u001b[0;34m\u001b[0m\u001b[0m\n\u001b[1;32m    310\u001b[0m                 )\n\u001b[0;32m--> 311\u001b[0;31m             \u001b[0;32mreturn\u001b[0m \u001b[0mfunc\u001b[0m\u001b[0;34m(\u001b[0m\u001b[0;34m*\u001b[0m\u001b[0margs\u001b[0m\u001b[0;34m,\u001b[0m \u001b[0;34m**\u001b[0m\u001b[0mkwargs\u001b[0m\u001b[0;34m)\u001b[0m\u001b[0;34m\u001b[0m\u001b[0;34m\u001b[0m\u001b[0m\n\u001b[0m\u001b[1;32m    312\u001b[0m \u001b[0;34m\u001b[0m\u001b[0m\n\u001b[1;32m    313\u001b[0m         \u001b[0;32mreturn\u001b[0m \u001b[0mwrapper\u001b[0m\u001b[0;34m\u001b[0m\u001b[0;34m\u001b[0m\u001b[0m\n",
            "\u001b[0;32m/usr/local/lib/python3.9/dist-packages/pandas/io/parsers/readers.py\u001b[0m in \u001b[0;36mread_csv\u001b[0;34m(filepath_or_buffer, sep, delimiter, header, names, index_col, usecols, squeeze, prefix, mangle_dupe_cols, dtype, engine, converters, true_values, false_values, skipinitialspace, skiprows, skipfooter, nrows, na_values, keep_default_na, na_filter, verbose, skip_blank_lines, parse_dates, infer_datetime_format, keep_date_col, date_parser, dayfirst, cache_dates, iterator, chunksize, compression, thousands, decimal, lineterminator, quotechar, quoting, doublequote, escapechar, comment, encoding, encoding_errors, dialect, error_bad_lines, warn_bad_lines, on_bad_lines, delim_whitespace, low_memory, memory_map, float_precision, storage_options)\u001b[0m\n\u001b[1;32m    676\u001b[0m     \u001b[0mkwds\u001b[0m\u001b[0;34m.\u001b[0m\u001b[0mupdate\u001b[0m\u001b[0;34m(\u001b[0m\u001b[0mkwds_defaults\u001b[0m\u001b[0;34m)\u001b[0m\u001b[0;34m\u001b[0m\u001b[0;34m\u001b[0m\u001b[0m\n\u001b[1;32m    677\u001b[0m \u001b[0;34m\u001b[0m\u001b[0m\n\u001b[0;32m--> 678\u001b[0;31m     \u001b[0;32mreturn\u001b[0m \u001b[0m_read\u001b[0m\u001b[0;34m(\u001b[0m\u001b[0mfilepath_or_buffer\u001b[0m\u001b[0;34m,\u001b[0m \u001b[0mkwds\u001b[0m\u001b[0;34m)\u001b[0m\u001b[0;34m\u001b[0m\u001b[0;34m\u001b[0m\u001b[0m\n\u001b[0m\u001b[1;32m    679\u001b[0m \u001b[0;34m\u001b[0m\u001b[0m\n\u001b[1;32m    680\u001b[0m \u001b[0;34m\u001b[0m\u001b[0m\n",
            "\u001b[0;32m/usr/local/lib/python3.9/dist-packages/pandas/io/parsers/readers.py\u001b[0m in \u001b[0;36m_read\u001b[0;34m(filepath_or_buffer, kwds)\u001b[0m\n\u001b[1;32m    573\u001b[0m \u001b[0;34m\u001b[0m\u001b[0m\n\u001b[1;32m    574\u001b[0m     \u001b[0;31m# Create the parser.\u001b[0m\u001b[0;34m\u001b[0m\u001b[0;34m\u001b[0m\u001b[0m\n\u001b[0;32m--> 575\u001b[0;31m     \u001b[0mparser\u001b[0m \u001b[0;34m=\u001b[0m \u001b[0mTextFileReader\u001b[0m\u001b[0;34m(\u001b[0m\u001b[0mfilepath_or_buffer\u001b[0m\u001b[0;34m,\u001b[0m \u001b[0;34m**\u001b[0m\u001b[0mkwds\u001b[0m\u001b[0;34m)\u001b[0m\u001b[0;34m\u001b[0m\u001b[0;34m\u001b[0m\u001b[0m\n\u001b[0m\u001b[1;32m    576\u001b[0m \u001b[0;34m\u001b[0m\u001b[0m\n\u001b[1;32m    577\u001b[0m     \u001b[0;32mif\u001b[0m \u001b[0mchunksize\u001b[0m \u001b[0;32mor\u001b[0m \u001b[0miterator\u001b[0m\u001b[0;34m:\u001b[0m\u001b[0;34m\u001b[0m\u001b[0;34m\u001b[0m\u001b[0m\n",
            "\u001b[0;32m/usr/local/lib/python3.9/dist-packages/pandas/io/parsers/readers.py\u001b[0m in \u001b[0;36m__init__\u001b[0;34m(self, f, engine, **kwds)\u001b[0m\n\u001b[1;32m    930\u001b[0m \u001b[0;34m\u001b[0m\u001b[0m\n\u001b[1;32m    931\u001b[0m         \u001b[0mself\u001b[0m\u001b[0;34m.\u001b[0m\u001b[0mhandles\u001b[0m\u001b[0;34m:\u001b[0m \u001b[0mIOHandles\u001b[0m \u001b[0;34m|\u001b[0m \u001b[0;32mNone\u001b[0m \u001b[0;34m=\u001b[0m \u001b[0;32mNone\u001b[0m\u001b[0;34m\u001b[0m\u001b[0;34m\u001b[0m\u001b[0m\n\u001b[0;32m--> 932\u001b[0;31m         \u001b[0mself\u001b[0m\u001b[0;34m.\u001b[0m\u001b[0m_engine\u001b[0m \u001b[0;34m=\u001b[0m \u001b[0mself\u001b[0m\u001b[0;34m.\u001b[0m\u001b[0m_make_engine\u001b[0m\u001b[0;34m(\u001b[0m\u001b[0mf\u001b[0m\u001b[0;34m,\u001b[0m \u001b[0mself\u001b[0m\u001b[0;34m.\u001b[0m\u001b[0mengine\u001b[0m\u001b[0;34m)\u001b[0m\u001b[0;34m\u001b[0m\u001b[0;34m\u001b[0m\u001b[0m\n\u001b[0m\u001b[1;32m    933\u001b[0m \u001b[0;34m\u001b[0m\u001b[0m\n\u001b[1;32m    934\u001b[0m     \u001b[0;32mdef\u001b[0m \u001b[0mclose\u001b[0m\u001b[0;34m(\u001b[0m\u001b[0mself\u001b[0m\u001b[0;34m)\u001b[0m\u001b[0;34m:\u001b[0m\u001b[0;34m\u001b[0m\u001b[0;34m\u001b[0m\u001b[0m\n",
            "\u001b[0;32m/usr/local/lib/python3.9/dist-packages/pandas/io/parsers/readers.py\u001b[0m in \u001b[0;36m_make_engine\u001b[0;34m(self, f, engine)\u001b[0m\n\u001b[1;32m   1214\u001b[0m             \u001b[0;31m# \"Union[str, PathLike[str], ReadCsvBuffer[bytes], ReadCsvBuffer[str]]\"\u001b[0m\u001b[0;34m\u001b[0m\u001b[0;34m\u001b[0m\u001b[0m\n\u001b[1;32m   1215\u001b[0m             \u001b[0;31m# , \"str\", \"bool\", \"Any\", \"Any\", \"Any\", \"Any\", \"Any\"\u001b[0m\u001b[0;34m\u001b[0m\u001b[0;34m\u001b[0m\u001b[0m\n\u001b[0;32m-> 1216\u001b[0;31m             self.handles = get_handle(  # type: ignore[call-overload]\n\u001b[0m\u001b[1;32m   1217\u001b[0m                 \u001b[0mf\u001b[0m\u001b[0;34m,\u001b[0m\u001b[0;34m\u001b[0m\u001b[0;34m\u001b[0m\u001b[0m\n\u001b[1;32m   1218\u001b[0m                 \u001b[0mmode\u001b[0m\u001b[0;34m,\u001b[0m\u001b[0;34m\u001b[0m\u001b[0;34m\u001b[0m\u001b[0m\n",
            "\u001b[0;32m/usr/local/lib/python3.9/dist-packages/pandas/io/common.py\u001b[0m in \u001b[0;36mget_handle\u001b[0;34m(path_or_buf, mode, encoding, compression, memory_map, is_text, errors, storage_options)\u001b[0m\n\u001b[1;32m    784\u001b[0m         \u001b[0;32mif\u001b[0m \u001b[0mioargs\u001b[0m\u001b[0;34m.\u001b[0m\u001b[0mencoding\u001b[0m \u001b[0;32mand\u001b[0m \u001b[0;34m\"b\"\u001b[0m \u001b[0;32mnot\u001b[0m \u001b[0;32min\u001b[0m \u001b[0mioargs\u001b[0m\u001b[0;34m.\u001b[0m\u001b[0mmode\u001b[0m\u001b[0;34m:\u001b[0m\u001b[0;34m\u001b[0m\u001b[0;34m\u001b[0m\u001b[0m\n\u001b[1;32m    785\u001b[0m             \u001b[0;31m# Encoding\u001b[0m\u001b[0;34m\u001b[0m\u001b[0;34m\u001b[0m\u001b[0m\n\u001b[0;32m--> 786\u001b[0;31m             handle = open(\n\u001b[0m\u001b[1;32m    787\u001b[0m                 \u001b[0mhandle\u001b[0m\u001b[0;34m,\u001b[0m\u001b[0;34m\u001b[0m\u001b[0;34m\u001b[0m\u001b[0m\n\u001b[1;32m    788\u001b[0m                 \u001b[0mioargs\u001b[0m\u001b[0;34m.\u001b[0m\u001b[0mmode\u001b[0m\u001b[0;34m,\u001b[0m\u001b[0;34m\u001b[0m\u001b[0;34m\u001b[0m\u001b[0m\n",
            "\u001b[0;31mFileNotFoundError\u001b[0m: [Errno 2] No such file or directory: '/content/drive/MyDrive/DVD/cereal.csv'"
          ]
        }
      ]
    },
    {
      "cell_type": "markdown",
      "source": [
        "**Specifying a subset of a DataFrame**"
      ],
      "metadata": {
        "id": "Pda9Rb4daA-b"
      }
    },
    {
      "cell_type": "code",
      "source": [
        "# Print the first 5 rows of the DataFrame.\n",
        "df.head()"
      ],
      "metadata": {
        "id": "_7haP6DQaCjP"
      },
      "execution_count": null,
      "outputs": []
    },
    {
      "cell_type": "code",
      "source": [
        "# Print rows #0, #1 and #2\n",
        "df.head(3)"
      ],
      "metadata": {
        "id": "tOfen2iyHBR_"
      },
      "execution_count": null,
      "outputs": []
    },
    {
      "cell_type": "code",
      "source": [
        "# Print rows #1, #2 and #3\n",
        "df[1:4]"
      ],
      "metadata": {
        "id": "2_9blsxnHE3B"
      },
      "execution_count": null,
      "outputs": []
    },
    {
      "cell_type": "code",
      "source": [
        "# Print row #2\n",
        "df.iloc[[2]]"
      ],
      "metadata": {
        "id": "q_agnO03HIdR"
      },
      "execution_count": null,
      "outputs": []
    },
    {
      "cell_type": "code",
      "source": [
        "# Print the last 10 rows of the DataFrame.\n",
        "df.tail(10)"
      ],
      "metadata": {
        "id": "cxPR0EQDlXi8"
      },
      "execution_count": null,
      "outputs": []
    },
    {
      "cell_type": "code",
      "source": [
        "# Print a specified column\n",
        "df[['rating']]"
      ],
      "metadata": {
        "id": "9Vf0zRhYHKDK"
      },
      "execution_count": null,
      "outputs": []
    },
    {
      "cell_type": "markdown",
      "source": [
        "**Calculating and doing statistics**"
      ],
      "metadata": {
        "id": "jKLDfPVKFRYL"
      }
    },
    {
      "cell_type": "markdown",
      "source": [
        "Finding the mean of the \"rating\" variable"
      ],
      "metadata": {
        "id": "aqskyVSoIXi6"
      }
    },
    {
      "cell_type": "code",
      "source": [
        "df['rating'].mean()"
      ],
      "metadata": {
        "id": "Z07Jsf-IIQPv"
      },
      "execution_count": null,
      "outputs": []
    },
    {
      "cell_type": "markdown",
      "source": [
        "Show amount of unique values in each column"
      ],
      "metadata": {
        "id": "D0hDh5U_Jp1z"
      }
    },
    {
      "cell_type": "code",
      "source": [
        "df.nunique()"
      ],
      "metadata": {
        "id": "tR1B09jfIk8W"
      },
      "execution_count": null,
      "outputs": []
    },
    {
      "cell_type": "markdown",
      "source": [
        "Show amount of unique values in a specific column"
      ],
      "metadata": {
        "id": "C57BKjJoJwCQ"
      }
    },
    {
      "cell_type": "code",
      "source": [
        "df['mfr'].nunique()"
      ],
      "metadata": {
        "id": "sL02RuVhJh8y"
      },
      "execution_count": null,
      "outputs": []
    },
    {
      "cell_type": "markdown",
      "source": [
        "# **Introduction to Altair**"
      ],
      "metadata": {
        "id": "7FlJ67wn7iZb"
      }
    },
    {
      "cell_type": "markdown",
      "source": [
        "**Start by downloading and importing the Altair Library**"
      ],
      "metadata": {
        "id": "2l6e0AFr7npv"
      }
    },
    {
      "cell_type": "code",
      "source": [
        "!pip install altair==5.0.0rc1"
      ],
      "metadata": {
        "id": "3SUpBJPV7-vV"
      },
      "execution_count": null,
      "outputs": []
    },
    {
      "cell_type": "code",
      "source": [
        "import altair as alt"
      ],
      "metadata": {
        "id": "aS_yiDGE8O3K"
      },
      "execution_count": null,
      "outputs": []
    },
    {
      "cell_type": "markdown",
      "source": [
        "**Create a scatterplot with the sodium and rating variables**"
      ],
      "metadata": {
        "id": "3AZo4kM58URU"
      }
    },
    {
      "cell_type": "code",
      "source": [
        "alt.Chart(df).mark_point().encode(\n",
        "    x = \"sodium:Q\",\n",
        "    y = \"rating:Q\"\n",
        ")"
      ],
      "metadata": {
        "id": "Pe1gVzQm8fI8"
      },
      "execution_count": null,
      "outputs": []
    },
    {
      "cell_type": "markdown",
      "source": [
        "**Color code based on name** - Not a good variable to color code from"
      ],
      "metadata": {
        "id": "ldDfwg8r9ken"
      }
    },
    {
      "cell_type": "code",
      "source": [
        "alt.Chart(df).mark_point().encode(\n",
        "    x = \"sodium:Q\",\n",
        "    y = \"rating:Q\",\n",
        "    color = \"name:N\"\n",
        ")"
      ],
      "metadata": {
        "id": "0LtoWf8k9o6u"
      },
      "execution_count": null,
      "outputs": []
    },
    {
      "cell_type": "markdown",
      "source": [
        "**Color code based on \"mfr\"** - A better variable to color code from"
      ],
      "metadata": {
        "id": "2aQ8P3TT-Jsh"
      }
    },
    {
      "cell_type": "code",
      "source": [
        "alt.Chart(df).mark_point().encode(\n",
        "    x = \"sodium:Q\",\n",
        "    y = \"rating:Q\",\n",
        "    color = \"mfr:N\"\n",
        ")"
      ],
      "metadata": {
        "id": "o0TH1I95-J0b"
      },
      "execution_count": null,
      "outputs": []
    },
    {
      "cell_type": "markdown",
      "source": [
        "**Color code based on \"mfr\" - try other data types than \"Nominal\"**"
      ],
      "metadata": {
        "id": "m5FBUOdf-6dS"
      }
    },
    {
      "cell_type": "code",
      "source": [
        "alt.Chart(df).mark_point().encode(\n",
        "    x = \"sodium:Q\",\n",
        "    y = \"rating:Q\",\n",
        "    color = \"mfr:O\"\n",
        ")"
      ],
      "metadata": {
        "id": "kZ2hv6V1-64B"
      },
      "execution_count": null,
      "outputs": []
    },
    {
      "cell_type": "markdown",
      "source": [
        "**Make the visualization interactive** - Make it possible to \"move around\" in the visualization"
      ],
      "metadata": {
        "id": "wR664XzR-TMU"
      }
    },
    {
      "cell_type": "code",
      "source": [
        "chart = alt.Chart(df).mark_point().encode(\n",
        "    x = \"sodium:Q\",\n",
        "    y = \"rating:Q\",\n",
        "    color = \"mfr:N\"\n",
        ")\n",
        "\n",
        "chart.interactive()"
      ],
      "metadata": {
        "id": "3qkmQ_fo_xOV"
      },
      "execution_count": null,
      "outputs": []
    },
    {
      "cell_type": "markdown",
      "source": [
        "**Add a tooltip to the visualization to show the \"name\" of each data point**"
      ],
      "metadata": {
        "id": "Ykd-SUxF_y-b"
      }
    },
    {
      "cell_type": "code",
      "source": [
        "chart = alt.Chart(df).mark_point().encode(\n",
        "    alt.X(\"sodium:Q\"),\n",
        "    alt.Y(\"rating:Q\"),\n",
        "    color = \"mfr:N\",\n",
        "    tooltip = [\"name\"]\n",
        ")\n",
        "\n",
        "chart.interactive()"
      ],
      "metadata": {
        "id": "PM7T7EN2-Wmr"
      },
      "execution_count": null,
      "outputs": []
    },
    {
      "cell_type": "markdown",
      "source": [
        "**Make a bar chart with the \"mfr\" and \"rating\" variables**"
      ],
      "metadata": {
        "id": "4pxMvOLxEl8o"
      }
    },
    {
      "cell_type": "code",
      "source": [
        "bar = alt.Chart(df).mark_bar().encode(\n",
        "    x='mfr:N',\n",
        "    y='rating:Q'\n",
        ")\n",
        "\n",
        "bar"
      ],
      "metadata": {
        "id": "8DwIiaqzC3j7"
      },
      "execution_count": null,
      "outputs": []
    },
    {
      "cell_type": "markdown",
      "source": [
        "# **Optional**"
      ],
      "metadata": {
        "id": "QetXDVbGF-uU"
      }
    },
    {
      "cell_type": "markdown",
      "source": [
        "**Create a DataFrame**\n",
        "- The DataFrame is similar to a spreadsheet as the data is contained in cells with named columns and numbered rows."
      ],
      "metadata": {
        "id": "qdxnkNhCGB5m"
      }
    },
    {
      "cell_type": "code",
      "source": [
        "# Create and populate a 7x2 NumPy array (= 14 cells).\n",
        "my_data = np.array([[0,3], [10,7], [15,8], [20,9], [25,12], [30,14], [40,15]])\n",
        "\n",
        "# Create a Python list that holds the names of the two columns.\n",
        "my_column_names = ['temperature', 'activity']\n",
        "\n",
        "# Create a DataFrame.\n",
        "my_dataframe = pd.DataFrame(data=my_data, columns=my_column_names) # The first argument = data, second argument = names of columns.\n",
        "\n",
        "# Print the entire DataFrame.\n",
        "my_dataframe"
      ],
      "metadata": {
        "id": "jPQkcDiMGIUQ"
      },
      "execution_count": null,
      "outputs": []
    },
    {
      "cell_type": "markdown",
      "source": [
        "**Adding a new column to a DataFrame**"
      ],
      "metadata": {
        "id": "LMSjoRCDGLJZ"
      }
    },
    {
      "cell_type": "code",
      "source": [
        "# Create a new column named adjusted.\n",
        "my_dataframe['adjusted'] = my_dataframe['activity'] + 2 # Creating a column whose values are the values of the column \"Activity\" plus 2.\n",
        "\n",
        "# Print the entire DataFrame.\n",
        "print(my_dataframe)"
      ],
      "metadata": {
        "id": "mUpgF8pMGQNJ"
      },
      "execution_count": null,
      "outputs": []
    },
    {
      "cell_type": "markdown",
      "source": [
        "**Show the row of the cereal with the highest calories**"
      ],
      "metadata": {
        "id": "tQu9JSpRNPir"
      }
    },
    {
      "cell_type": "code",
      "source": [
        "df.loc[df['calories'].idxmax()]"
      ],
      "metadata": {
        "id": "ILtWUTEFNPsT"
      },
      "execution_count": null,
      "outputs": []
    },
    {
      "cell_type": "markdown",
      "source": [
        "**Create a new DataFrame with filtered values**"
      ],
      "metadata": {
        "id": "ZkEKkMEIOohl"
      }
    },
    {
      "cell_type": "code",
      "source": [
        "df = pd.read_csv('file.csv')\n",
        "filtered_df = df[df['Age'] > 25]\n",
        "print(filtered_df)"
      ],
      "metadata": {
        "id": "DqNTgD0POm7p"
      },
      "execution_count": null,
      "outputs": []
    }
  ]
}