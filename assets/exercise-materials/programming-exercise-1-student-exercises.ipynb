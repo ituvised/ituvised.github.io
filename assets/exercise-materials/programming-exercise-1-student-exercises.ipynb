{
  "nbformat": 4,
  "nbformat_minor": 0,
  "metadata": {
    "colab": {
      "provenance": []
    },
    "kernelspec": {
      "name": "python3",
      "display_name": "Python 3"
    },
    "language_info": {
      "name": "python"
    }
  },
  "cells": [
    {
      "cell_type": "markdown",
      "source": [
        "# **Install the Altair library**"
      ],
      "metadata": {
        "id": "GFMuXnoeB5Bi"
      }
    },
    {
      "cell_type": "code",
      "source": [
        "# Write your code here"
      ],
      "metadata": {
        "id": "hzeJ8fTyB__p"
      },
      "execution_count": null,
      "outputs": []
    },
    {
      "cell_type": "markdown",
      "source": [
        "# **Task 1: Import pandas, numpy and altair**"
      ],
      "metadata": {
        "id": "hKVfKu0v8Nsa"
      }
    },
    {
      "cell_type": "code",
      "source": [
        "# Write your code here"
      ],
      "metadata": {
        "id": "q6rrYFn88UQp"
      },
      "execution_count": null,
      "outputs": []
    },
    {
      "cell_type": "markdown",
      "source": [
        "# **Task 2: Import the cereal .csv file into a DataFrame**\n",
        "\n",
        "\n"
      ],
      "metadata": {
        "id": "IpRtpO-xcB22"
      }
    },
    {
      "cell_type": "code",
      "source": [
        "# Write your code here"
      ],
      "metadata": {
        "id": "vJADgARzrbr4"
      },
      "execution_count": null,
      "outputs": []
    },
    {
      "cell_type": "markdown",
      "source": [
        "# **Task 3: Display a single column from the DataFrame**"
      ],
      "metadata": {
        "id": "xP8O6aR9FcNq"
      }
    },
    {
      "cell_type": "code",
      "source": [
        "# Write your code here"
      ],
      "metadata": {
        "id": "gia7jS6hFeQr"
      },
      "execution_count": null,
      "outputs": []
    },
    {
      "cell_type": "markdown",
      "source": [
        "# **Task 4: Rename a column**"
      ],
      "metadata": {
        "id": "SwQWtFEPHSv_"
      }
    },
    {
      "cell_type": "code",
      "source": [
        "# Write your code here"
      ],
      "metadata": {
        "id": "v2POn1EGHXMK"
      },
      "execution_count": null,
      "outputs": []
    },
    {
      "cell_type": "markdown",
      "source": [
        "# **Task 5: Find the product with the highest and the lowest rating**"
      ],
      "metadata": {
        "id": "pcQykRCVrdWC"
      }
    },
    {
      "cell_type": "code",
      "source": [
        "# Write your code here"
      ],
      "metadata": {
        "id": "gQSIbNHXrhKe"
      },
      "execution_count": null,
      "outputs": []
    },
    {
      "cell_type": "markdown",
      "source": [
        "# **Altair Task 1: Create a scatterplot**"
      ],
      "metadata": {
        "id": "MnPyRhR-Hzca"
      }
    },
    {
      "cell_type": "markdown",
      "source": [
        "\n",
        "\n",
        "*   **Explore the cereal dataset and find variables to use in the scatterplot.**\n",
        "*   **Create a scatterplot**\n",
        "\n",
        "\n",
        "\n",
        "\n"
      ],
      "metadata": {
        "id": "vQ6jmv5jO5vb"
      }
    },
    {
      "cell_type": "code",
      "source": [
        "# Write your code here"
      ],
      "metadata": {
        "id": "-Ah0AkIeQrEs"
      },
      "execution_count": null,
      "outputs": []
    },
    {
      "cell_type": "markdown",
      "source": [
        "# **Altair Task 2: Make the scatterplot interactive**\n",
        "\n",
        "\n",
        "*   **Explore the different opportunities in the Altair library examples and try different options**\n",
        "\n"
      ],
      "metadata": {
        "id": "re5LnlW_RHVY"
      }
    },
    {
      "cell_type": "code",
      "source": [
        "# Write your code here"
      ],
      "metadata": {
        "id": "j1abOu0rSQPy"
      },
      "execution_count": null,
      "outputs": []
    },
    {
      "cell_type": "markdown",
      "source": [
        "# **Altair Task 3: Create other data visualizations**\n",
        "\n",
        "*   **Explore the different opportunities in the Altair library examples and try different options**"
      ],
      "metadata": {
        "id": "6tDfMekpQzx0"
      }
    },
    {
      "cell_type": "code",
      "source": [
        "# Write your code here"
      ],
      "metadata": {
        "id": "-3JEDk-tSb3C"
      },
      "execution_count": null,
      "outputs": []
    },
    {
      "cell_type": "markdown",
      "source": [
        "# **Altair Task 4: Make the data visualization interactive**\n",
        "\n",
        "*   **Explore the different opportunities in the Altair library examples and try different options**"
      ],
      "metadata": {
        "id": "hNmIkDDFUJPw"
      }
    },
    {
      "cell_type": "code",
      "source": [
        "# Write your code here"
      ],
      "metadata": {
        "id": "v1b7VLy8URCi"
      },
      "execution_count": null,
      "outputs": []
    },
    {
      "cell_type": "markdown",
      "source": [
        "# **Optional task - DataFrame: Create a new column based on existing columns**"
      ],
      "metadata": {
        "id": "oDMGysCVGjzs"
      }
    },
    {
      "cell_type": "code",
      "source": [
        "# Write your code here\n",
        "\n",
        "#hint - use quantitative columns"
      ],
      "metadata": {
        "id": "1l693aEcKf6r"
      },
      "execution_count": null,
      "outputs": []
    },
    {
      "cell_type": "markdown",
      "source": [
        "# **Optional task - DataFrame: Filter rows based on a condition based on one column**"
      ],
      "metadata": {
        "id": "w0LZgDY_LLex"
      }
    },
    {
      "cell_type": "code",
      "source": [
        "# Write your code here"
      ],
      "metadata": {
        "id": "2x-2SFUXLOvV"
      },
      "execution_count": null,
      "outputs": []
    }
  ]
}